{
 "cells": [
  {
   "cell_type": "code",
   "execution_count": 1,
   "metadata": {},
   "outputs": [],
   "source": [
    "import numpy as np\n",
    "import pandas as pd\n",
    "import os\n",
    "import subprocess\n",
    "from pathlib import Path"
   ]
  },
  {
   "cell_type": "code",
   "execution_count": 6,
   "metadata": {},
   "outputs": [],
   "source": [
    "def convert_files(folder):\n",
    "    \n",
    "    df = pd.read_csv(folder + '/metadata_compiled.csv')\n",
    "    names_to_convert = df.uuid.to_numpy()\n",
    "    #names_to_convert_temp = names_to_convert[0:3]\n",
    "    #print(names_to_convert_temp)\n",
    "    for counter, name in enumerate(names_to_convert):\n",
    "        if (counter%1000 == 0):\n",
    "            print(\"Finished {0}/{1}\".format(counter,len(names_to_convert)))\n",
    "        if os.path.isfile(folder + \"/\" + name + '.webm'):\n",
    "            subprocess.call([\"ffmpeg\", \"-i\", folder+\"/\"+name+\".webm\", folder+\"/\"+name+\".wav\"])\n",
    "        elif os.path.isfile(folder + \"/\" + name + '.ogg'):\n",
    "            subprocess.call([\"ffmpeg\", \"-i\", folder+\"/\"+name+\".ogg\", folder+\"/\"+name+\".wav\"])\n",
    "        else:\n",
    "            print(\"Error: No file name {0}\".format(name))"
   ]
  },
  {
   "cell_type": "code",
   "execution_count": 7,
   "metadata": {},
   "outputs": [
    {
     "name": "stdout",
     "output_type": "stream",
     "text": [
      "Finished 0/20072\n",
      "Finished 1000/20072\n",
      "Finished 2000/20072\n",
      "Finished 3000/20072\n",
      "Finished 4000/20072\n",
      "Finished 5000/20072\n",
      "Finished 6000/20072\n",
      "Finished 7000/20072\n",
      "Finished 8000/20072\n",
      "Finished 9000/20072\n",
      "Finished 10000/20072\n",
      "Finished 11000/20072\n",
      "Finished 12000/20072\n",
      "Finished 13000/20072\n",
      "Finished 14000/20072\n",
      "Finished 15000/20072\n",
      "Finished 16000/20072\n",
      "Finished 17000/20072\n",
      "Finished 18000/20072\n",
      "Finished 19000/20072\n",
      "Finished 20000/20072\n"
     ]
    }
   ],
   "source": [
    "folder = \"/Users/sadhanajayakumar/Desktop/public_dataset\"\n",
    "convert_files(folder)"
   ]
  },
  {
   "cell_type": "code",
   "execution_count": null,
   "metadata": {},
   "outputs": [],
   "source": []
  }
 ],
 "metadata": {
  "kernelspec": {
   "display_name": "Python 3",
   "language": "python",
   "name": "python3"
  },
  "language_info": {
   "codemirror_mode": {
    "name": "ipython",
    "version": 3
   },
   "file_extension": ".py",
   "mimetype": "text/x-python",
   "name": "python",
   "nbconvert_exporter": "python",
   "pygments_lexer": "ipython3",
   "version": "3.8.5"
  }
 },
 "nbformat": 4,
 "nbformat_minor": 4
}
